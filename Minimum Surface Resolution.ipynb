{
 "cells": [
  {
   "cell_type": "code",
   "execution_count": 20,
   "metadata": {},
   "outputs": [
    {
     "name": "stdout",
     "output_type": "stream",
     "text": [
      "Enter the upper limit: 1\n",
      "Enter the lower limit: 0\n",
      "Enter the value of c: 5\n",
      "Enter the value of a: 3\n",
      "Differential sinh(x/5 + 3/5)\n",
      "Integral  7.91316623617536\n",
      "Area  49.7198898284066\n"
     ]
    },
    {
     "data": {
      "image/png": "[encoded data removed]",
      "text/plain": [
       "<Figure size 432x288 with 1 Axes>"
      ]
     },
     "metadata": {
      "needs_background": "light"
     },
     "output_type": "display_data"
    }
   ],
   "source": [
    "import numpy as np\n",
    "import matplotlib.pyplot as plt\n",
    "from ipywidgets import interact\n",
    "from sympy import *\n",
    "\n",
    "x = Symbol('x')\n",
    "x2 = int(input(\"Enter the upper limit: \"))\n",
    "x1 = int(input(\"Enter the lower limit: \"))\n",
    "# c = np.linspace(0,5,100)\n",
    "# a = np.linspace(0,3,100)\n",
    "c = int(input(\"Enter the value of c: \"))\n",
    "a = int(input(\"Enter the value of a: \"))\n",
    "y = c * cosh((x+a)/c)\n",
    "y1 = diff(y,x)\n",
    "y2 = sqrt(1 + (y1 ** 2))\n",
    "y3 = y * y2\n",
    "i = integrate(y3,(x,x1,x2)).evalf()\n",
    "ar = (2*pi*i).evalf()             \n",
    "print(\"Differential\",y1)\n",
    "print(\"Integral \",i)\n",
    "print(\"Area \",ar)\n",
    "# plt.plot(c,ar)\n",
    "# plt.plot(a,ar)\n",
    "plt.plot(i,ar)\n",
    "plt.show()\n"
   ]
  },
  {
   "cell_type": "code",
   "execution_count": null,
   "metadata": {},
   "outputs": [],
   "source": []
  },
  {
   "cell_type": "code",
   "execution_count": null,
   "metadata": {},
   "outputs": [],
   "source": []
  },
  {
   "cell_type": "code",
   "execution_count": null,
   "metadata": {},
   "outputs": [],
   "source": []
  }
 ],
 "metadata": {
  "kernelspec": {
   "display_name": "Python 3",
   "language": "python",
   "name": "python3"
  },
  "language_info": {
   "codemirror_mode": {
    "name": "ipython",
    "version": 3
   },
   "file_extension": ".py",
   "mimetype": "text/x-python",
   "name": "python",
   "nbconvert_exporter": "python",
   "pygments_lexer": "ipython3",
   "version": "3.7.3"
  }
 },
 "nbformat": 4,
 "nbformat_minor": 4
}
