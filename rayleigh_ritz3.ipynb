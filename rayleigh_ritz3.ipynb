{
 "cells": [
  {
   "cell_type": "code",
   "execution_count": 4,
   "metadata": {},
   "outputs": [
    {
     "name": "stdout",
     "output_type": "stream",
     "text": [
      "Enter the value of q [2]: 2\n",
      "Enter the value of y0 [0]: 0\n",
      "The trial solution is:  ci_1*x*(1 - x) + ci_2*x**2*(1 - x)\n",
      "The functional is:\n",
      "-3*ci_1**2/10 - 3*ci_1*ci_2/10 + ci_1/6 - 13*ci_2**2/105 + ci_2/10\n",
      "The Approximate Solution is: yt=  ci_1*x*(1 - x) + ci_2*x**2*(1 - x)\n"
     ]
    },
    {
     "data": {
      "application/vnd.jupyter.widget-view+json": {
       "model_id": "1d19b938962b4a438cc58a5b69c81e7d",
       "version_major": 2,
       "version_minor": 0
      },
      "text/plain": [
       "interactive(children=(IntSlider(value=0, description='x', max=2, min=-2), Output()), _dom_classes=('widget-int…"
      ]
     },
     "metadata": {},
     "output_type": "display_data"
    },
    {
     "data": {
      "text/plain": [
       "<function __main__.f(x)>"
      ]
     },
     "execution_count": 4,
     "metadata": {},
     "output_type": "execute_result"
    }
   ],
   "source": [
    "import numpy as np\n",
    "from sympy import *\n",
    "import matplotlib.pyplot as plt\n",
    "from ipywidgets import interact\n",
    "\n",
    "x=Symbol('x')\n",
    "q=int(input(\"Enter the value of q [2]: \"))\n",
    "y0=int(input(\"Enter the value of y0 [0]: \"))\n",
    "basis = [x**i*(1-x) for i in range(q+1)]\n",
    "ci=[Symbol(\"ci_%i\" %i) for i in np.arange(q+1)]\n",
    "y = y0 + sum(ci[i]*basis[i] for i in range(1,q+1))\n",
    "print(\"The trial solution is: \",y)\n",
    "k=Matrix([[0,0],[0,0]])\n",
    "f=Matrix(1,q,range(q))\n",
    "for i in range(1,q+1):\n",
    "        for j in range(1,q+1):\n",
    "            k[i-1,j-1]=ci[i]*ci[j]*basis[i]*basis[j]+ci[i]*ci[j]*basis[i]\\\n",
    "            *diff(basis[j],x,x)\n",
    "#print(sum(k.reshape(1,9)))\n",
    "for i in range(1,q+1):\n",
    "     f[i-1]=2*x*ci[i]*basis[i]\n",
    "functional=integrate(sum(k.reshape(1,q**2))+sum(f),[x,0,1])\n",
    "print(\"The functional is:\")\n",
    "print(functional)        \n",
    "#Evaluation of Partial Derivatives\n",
    "s1=Derivative(functional,ci[1])\n",
    "d1=s1.doit()\n",
    "s2=Derivative(functional,ci[2])\n",
    "d2=s2.doit()\n",
    "xx=solve([d1,d2],dict=True)\n",
    "yt=y.subs(xx,x)\n",
    "print(\"The Approximate Solution is: yt= \",yt)\n",
    "\n",
    "def f(x):\n",
    "    x=np.linspace(0,x,100)\n",
    "    result=7*x**2*(-x + 1)/41 + 71*x*(-x + 1)/369\n",
    "    result1=x*(1-x)*(0.1924+0.1708*x)\n",
    "    exact=np.sin(x)/np.sin(1)-x\n",
    "    plt.plot(x,exact,'bo')\n",
    "    plt.plot(x,result,'ro')\n",
    "    #plt.plot(x,result1)\n",
    "    plt.xlabel('x-values')\n",
    "    plt.ylabel('Solution')\n",
    "    plt.legend(('exact','approximate'),loc='best')\n",
    "    plt.title('Approximate and Exact Solutions of Rayleigh Ritz Equation')\n",
    "    plt.grid(True)\n",
    "    plt.show()\n",
    "    \n",
    "interact(f,x=(-2,2))"
   ]
  }
 ],
 "metadata": {
  "kernelspec": {
   "display_name": "Python 3",
   "language": "python",
   "name": "python3"
  },
  "language_info": {
   "codemirror_mode": {
    "name": "ipython",
    "version": 3
   },
   "file_extension": ".py",
   "mimetype": "text/x-python",
   "name": "python",
   "nbconvert_exporter": "python",
   "pygments_lexer": "ipython3",
   "version": "3.7.3"
  }
 },
 "nbformat": 4,
 "nbformat_minor": 2
}
