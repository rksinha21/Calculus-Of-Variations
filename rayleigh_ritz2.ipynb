{
 "cells": [
  {
   "cell_type": "code",
   "execution_count": 25,
   "metadata": {},
   "outputs": [
    {
     "name": "stdout",
     "output_type": "stream",
     "text": [
      "(2*c2*x - c2 + 1)**2\n",
      "c2*x**2 + x*(1 - c2) + 1\n",
      "-25/16\n",
      "The Approximate Solution is =  -25*x**2/16 + 41*x/16 + 1\n"
     ]
    },
    {
     "data": {
      "application/vnd.jupyter.widget-view+json": {
       "model_id": "2f4f2c311563484e996896531ea6a054",
       "version_major": 2,
       "version_minor": 0
      },
      "text/plain": [
       "interactive(children=(IntSlider(value=0, description='xx', max=5, min=-5), Output()), _dom_classes=('widget-in…"
      ]
     },
     "metadata": {},
     "output_type": "display_data"
    },
    {
     "data": {
      "text/plain": [
       "<function __main__.f(xx)>"
      ]
     },
     "execution_count": 25,
     "metadata": {},
     "output_type": "execute_result"
    }
   ],
   "source": [
    "import numpy as np\n",
    "from sympy import *\n",
    "import matplotlib.pyplot as plt\n",
    "from ipywidgets import interact\n",
    "\n",
    "x=Symbol('x')\n",
    "c0=Symbol('c0')\n",
    "c1=Symbol('c1')\n",
    "c2=Symbol('c2')\n",
    "C0=[]\n",
    "C1=[]\n",
    "C2=[]\n",
    "def trial(x):\n",
    "    return c0+c1*x+c2*x**2\n",
    "C0=solve(trial(0)-1,c0)\n",
    "C1=solve(trial(1)-2,c1)\n",
    "def y(x):\n",
    "    return C0[0]+C1[0]*x+c2*x**2\n",
    "deriv=diff(y(x),x)*diff(y(x),x)\n",
    "s=deriv.doit()\n",
    "t=s.subs(c0,C0[0])\n",
    "k=t.subs(c1,C1[0]) #(dy/dx)^2 \n",
    "print(k)\n",
    "l=C0[0]+C1[0]*x+c2*x**2\n",
    "m=l.subs(c0,C0[0]) # y \n",
    "print(m)\n",
    "functional=integrate(k-2*m*m+2*x*m,[x,0,1])#integral_{0 to 1} [dy/dx)^2-2*y^2+2xy]dx\n",
    "s1=Derivative(functional,c2)\n",
    "d1=s1.doit()\n",
    "C2=solve(d1)\n",
    "print(C2[0])\n",
    "result=m.subs(c2,C2[0])\n",
    "print(\"The Approximate Solution is = \",result)\n",
    "\n",
    "def f(xx):\n",
    "    xx=np.linspace(0,xx,100)\n",
    "    yy=-25.0*xx**2.0/16.0 + 41.0*xx/16.0 + 1.0 \n",
    "    exact=np.cos(np.sqrt(2.0)*xx)+1.3607*np.sin(np.sqrt(2.0)*xx)+xx/2.0\n",
    "    plt.plot(xx,yy,'bo',label='Approximate Solution')\n",
    "    plt.plot(xx,exact,'ro',label='Exact Solution')\n",
    "    plt.xlabel('x-values')\n",
    "    plt.ylabel('Solution')\n",
    "    plt.title('Approximate and Exact Solutions for Rayleigh Ritz Equation')\n",
    "    plt.grid(True)\n",
    "    plt.legend(loc='best')\n",
    "    plt.show()\n",
    "    \n",
    "interact(f,xx=(-5,5))"
   ]
  }
 ],
 "metadata": {
  "kernelspec": {
   "display_name": "Python 3",
   "language": "python",
   "name": "python3"
  },
  "language_info": {
   "codemirror_mode": {
    "name": "ipython",
    "version": 3
   },
   "file_extension": ".py",
   "mimetype": "text/x-python",
   "name": "python",
   "nbconvert_exporter": "python",
   "pygments_lexer": "ipython3",
   "version": "3.7.3"
  }
 },
 "nbformat": 4,
 "nbformat_minor": 2
}
