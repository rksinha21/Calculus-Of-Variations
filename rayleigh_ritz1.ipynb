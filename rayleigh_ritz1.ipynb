{
 "cells": [
  {
   "cell_type": "code",
   "execution_count": 60,
   "metadata": {},
   "outputs": [
    {
     "name": "stdout",
     "output_type": "stream",
     "text": [
      "Enter the value of q [3]: 3\n",
      "Enter the value of y0 [0]: 0\n",
      "The trial solution is:  ci_1*x + ci_2*x**2 + ci_3*x**3\n",
      "The functional is:\n",
      "ci_1**2 + 2*ci_1*ci_2 + 2*ci_1*ci_3 + 5*ci_1/3 + 4*ci_2**2/3 + 3*ci_2*ci_3 + 3*ci_2/2 + 9*ci_3**2/5 + 7*ci_3/5\n",
      "The Approximate Solution is: yt=  ci_1*x + ci_2*x**2 + ci_3*x**3\n"
     ]
    },
    {
     "data": {
      "application/vnd.jupyter.widget-view+json": {
       "model_id": "953d0a15ef334f699b332fe2abf52273",
       "version_major": 2,
       "version_minor": 0
      },
      "text/plain": [
       "interactive(children=(IntSlider(value=0, description='xr', max=3, min=-3), Output()), _dom_classes=('widget-in…"
      ]
     },
     "metadata": {},
     "output_type": "display_data"
    },
    {
     "data": {
      "text/plain": [
       "<function __main__.f(xr)>"
      ]
     },
     "execution_count": 60,
     "metadata": {},
     "output_type": "execute_result"
    }
   ],
   "source": [
    "import numpy as np\n",
    "from sympy import *\n",
    "import matplotlib.pyplot as plt\n",
    "from ipywidgets import interact,interactive,fixed,interact_manual\n",
    "import ipywidgets as widgets\n",
    "\n",
    "x=Symbol('x')\n",
    "q=int(input(\"Enter the value of q [3]: \"))\n",
    "y0=int(input(\"Enter the value of y0 [0]: \"))\n",
    "basis = [x**i for i in range(q+1)]\n",
    "ci=[Symbol(\"ci_%i\" %i) for i in np.arange(q+1)]\n",
    "y = y0 + sum(ci[i]*basis[i] for i in range(1,q+1))\n",
    "print(\"The trial solution is: \",y)\n",
    "k=Matrix([[0,0,0],[0,0,0],[0,0,0]])\n",
    "f=Matrix(1,q,range(q))\n",
    "for i in range(1,q+1):\n",
    "        for j in range(1,q+1):\n",
    "            k[i-1,j-1]=ci[i]*ci[j]*diff(basis[i],x)*diff(basis[j],x)\n",
    "#print(sum(k.reshape(1,9)))\n",
    "\n",
    "for i in range(1,q+1):\n",
    "     f[i-1]=2*x*ci[i]*basis[i]+ci[i]\n",
    "functional=integrate(sum(k.reshape(1,q**2))+sum(f),[x,0,1])\n",
    "\n",
    "print(\"The functional is:\")\n",
    "print(functional)        \n",
    "#Evaluation of Partial Derivatives\n",
    "s1=Derivative(functional,ci[1])\n",
    "d1=s1.doit()\n",
    "s2=Derivative(functional,ci[2])\n",
    "d2=s2.doit()\n",
    "s3=Derivative(functional,ci[3])\n",
    "d3=s3.doit()\n",
    "xx=solve([d1,d2,d3],dict=True)\n",
    "yt=y.subs(xx,x)\n",
    "print(\"The Approximate Solution is: yt= \",yt)\n",
    "\n",
    "def f(xr):  \n",
    "    xr=np.linspace(0,xr,100)\n",
    "    yt=xr**3/6 - xr #The Approximate Solution\n",
    "    plt.plot(xr,yt,'bo')\n",
    "    plt.xlabel('x-values')\n",
    "    plt.ylabel('Approximate Solutions')\n",
    "    plt.title('Rayleigh Ritz Equation')\n",
    "    plt.grid(True)\n",
    "    plt.show()\n",
    "    \n",
    "    \n",
    "interact(f,xr=(-3,3))\n",
    "\n"
   ]
  },
  {
   "cell_type": "code",
   "execution_count": null,
   "metadata": {},
   "outputs": [],
   "source": []
  },
  {
   "cell_type": "code",
   "execution_count": null,
   "metadata": {},
   "outputs": [],
   "source": []
  }
 ],
 "metadata": {
  "kernelspec": {
   "display_name": "Python 3",
   "language": "python",
   "name": "python3"
  },
  "language_info": {
   "codemirror_mode": {
    "name": "ipython",
    "version": 3
   },
   "file_extension": ".py",
   "mimetype": "text/x-python",
   "name": "python",
   "nbconvert_exporter": "python",
   "pygments_lexer": "ipython3",
   "version": "3.7.3"
  }
 },
 "nbformat": 4,
 "nbformat_minor": 2
}
